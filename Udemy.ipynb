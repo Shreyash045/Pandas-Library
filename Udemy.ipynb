{
 "cells": [
  {
   "cell_type": "code",
   "execution_count": 1,
   "id": "98068d7e",
   "metadata": {},
   "outputs": [],
   "source": [
    "import numpy as np\n",
    "import pandas as pd\n",
    "\n",
    "df = pd.read_csv('Udemy.csv')"
   ]
  },
  {
   "cell_type": "code",
   "execution_count": 2,
   "id": "f6044c09",
   "metadata": {},
   "outputs": [
    {
     "data": {
      "text/html": [
       "<div>\n",
       "<style scoped>\n",
       "    .dataframe tbody tr th:only-of-type {\n",
       "        vertical-align: middle;\n",
       "    }\n",
       "\n",
       "    .dataframe tbody tr th {\n",
       "        vertical-align: top;\n",
       "    }\n",
       "\n",
       "    .dataframe thead th {\n",
       "        text-align: right;\n",
       "    }\n",
       "</style>\n",
       "<table border=\"1\" class=\"dataframe\">\n",
       "  <thead>\n",
       "    <tr style=\"text-align: right;\">\n",
       "      <th></th>\n",
       "      <th>course_id</th>\n",
       "      <th>course_title</th>\n",
       "      <th>is_paid</th>\n",
       "      <th>price</th>\n",
       "      <th>num_subscribers</th>\n",
       "      <th>num_reviews</th>\n",
       "      <th>num_lectures</th>\n",
       "      <th>level</th>\n",
       "      <th>content_duration</th>\n",
       "      <th>published_timestamp</th>\n",
       "      <th>subject</th>\n",
       "    </tr>\n",
       "  </thead>\n",
       "  <tbody>\n",
       "    <tr>\n",
       "      <th>0</th>\n",
       "      <td>288942</td>\n",
       "      <td>#1 Piano Hand Coordination: Play 10th Ballad i...</td>\n",
       "      <td>True</td>\n",
       "      <td>35</td>\n",
       "      <td>3137</td>\n",
       "      <td>18</td>\n",
       "      <td>68</td>\n",
       "      <td>All Levels</td>\n",
       "      <td>1.5 hours</td>\n",
       "      <td>2014-09-18T05:07:05Z</td>\n",
       "      <td>Musical Instruments</td>\n",
       "    </tr>\n",
       "    <tr>\n",
       "      <th>1</th>\n",
       "      <td>1170074</td>\n",
       "      <td>#10 Hand Coordination - Transfer Chord Ballad ...</td>\n",
       "      <td>True</td>\n",
       "      <td>75</td>\n",
       "      <td>1593</td>\n",
       "      <td>1</td>\n",
       "      <td>41</td>\n",
       "      <td>Intermediate Level</td>\n",
       "      <td>1 hour</td>\n",
       "      <td>2017-04-12T19:06:34Z</td>\n",
       "      <td>Musical Instruments</td>\n",
       "    </tr>\n",
       "    <tr>\n",
       "      <th>2</th>\n",
       "      <td>1193886</td>\n",
       "      <td>#12 Hand Coordination: Let your Hands dance wi...</td>\n",
       "      <td>True</td>\n",
       "      <td>75</td>\n",
       "      <td>482</td>\n",
       "      <td>1</td>\n",
       "      <td>47</td>\n",
       "      <td>Intermediate Level</td>\n",
       "      <td>1.5 hours</td>\n",
       "      <td>2017-04-26T18:34:57Z</td>\n",
       "      <td>Musical Instruments</td>\n",
       "    </tr>\n",
       "    <tr>\n",
       "      <th>3</th>\n",
       "      <td>1116700</td>\n",
       "      <td>#4 Piano Hand Coordination: Fun Piano Runs in ...</td>\n",
       "      <td>True</td>\n",
       "      <td>75</td>\n",
       "      <td>850</td>\n",
       "      <td>3</td>\n",
       "      <td>43</td>\n",
       "      <td>Intermediate Level</td>\n",
       "      <td>1 hour</td>\n",
       "      <td>2017-02-21T23:48:18Z</td>\n",
       "      <td>Musical Instruments</td>\n",
       "    </tr>\n",
       "    <tr>\n",
       "      <th>4</th>\n",
       "      <td>1120410</td>\n",
       "      <td>#5  Piano Hand Coordination:  Piano Runs in 2 ...</td>\n",
       "      <td>True</td>\n",
       "      <td>75</td>\n",
       "      <td>940</td>\n",
       "      <td>3</td>\n",
       "      <td>32</td>\n",
       "      <td>Intermediate Level</td>\n",
       "      <td>37 mins</td>\n",
       "      <td>2017-02-21T23:44:49Z</td>\n",
       "      <td>Musical Instruments</td>\n",
       "    </tr>\n",
       "  </tbody>\n",
       "</table>\n",
       "</div>"
      ],
      "text/plain": [
       "   course_id                                       course_title  is_paid  \\\n",
       "0     288942  #1 Piano Hand Coordination: Play 10th Ballad i...     True   \n",
       "1    1170074  #10 Hand Coordination - Transfer Chord Ballad ...     True   \n",
       "2    1193886  #12 Hand Coordination: Let your Hands dance wi...     True   \n",
       "3    1116700  #4 Piano Hand Coordination: Fun Piano Runs in ...     True   \n",
       "4    1120410  #5  Piano Hand Coordination:  Piano Runs in 2 ...     True   \n",
       "\n",
       "  price  num_subscribers  num_reviews  num_lectures               level  \\\n",
       "0    35             3137           18            68          All Levels   \n",
       "1    75             1593            1            41  Intermediate Level   \n",
       "2    75              482            1            47  Intermediate Level   \n",
       "3    75              850            3            43  Intermediate Level   \n",
       "4    75              940            3            32  Intermediate Level   \n",
       "\n",
       "  content_duration   published_timestamp              subject  \n",
       "0        1.5 hours  2014-09-18T05:07:05Z  Musical Instruments  \n",
       "1           1 hour  2017-04-12T19:06:34Z  Musical Instruments  \n",
       "2        1.5 hours  2017-04-26T18:34:57Z  Musical Instruments  \n",
       "3           1 hour  2017-02-21T23:48:18Z  Musical Instruments  \n",
       "4          37 mins  2017-02-21T23:44:49Z  Musical Instruments  "
      ]
     },
     "execution_count": 2,
     "metadata": {},
     "output_type": "execute_result"
    }
   ],
   "source": [
    "df.head()"
   ]
  },
  {
   "cell_type": "code",
   "execution_count": 3,
   "id": "222869a2",
   "metadata": {},
   "outputs": [
    {
     "data": {
      "text/plain": [
       "Web Development        1200\n",
       "Business Finance       1199\n",
       "Musical Instruments     680\n",
       "Graphic Design          603\n",
       "Name: subject, dtype: int64"
      ]
     },
     "execution_count": 3,
     "metadata": {},
     "output_type": "execute_result"
    }
   ],
   "source": [
    "df['subject'].value_counts()"
   ]
  },
  {
   "cell_type": "code",
   "execution_count": 4,
   "id": "2b12501b",
   "metadata": {},
   "outputs": [
    {
     "data": {
      "text/plain": [
       "'Web Development'"
      ]
     },
     "execution_count": 4,
     "metadata": {},
     "output_type": "execute_result"
    }
   ],
   "source": [
    "df['subject'].max()"
   ]
  },
  {
   "cell_type": "code",
   "execution_count": 5,
   "id": "e98c2d8c",
   "metadata": {},
   "outputs": [
    {
     "data": {
      "text/plain": [
       "course_id  course_title                                                  is_paid  price  num_subscribers  num_reviews  num_lectures  level           content_duration  published_timestamp   subject         \n",
       "17349      Figure Drawing From Life Using The Reilly Technique.          False    Free   47811            1041         22            All Levels      2.5 hours         2012-05-09T18:14:57Z  Graphic Design      1\n",
       "890810     Practical Understanding of PHP and MySQL                      False    Free   12201            217          24            Beginner Level  5.5 hours         2016-07-06T16:35:25Z  Web Development     1\n",
       "919906     Trading Options For Consistent Returns: Options Basics        False    Free   4077             281          20            Beginner Level  1.5 hours         2016-08-18T21:57:04Z  Business Finance    1\n",
       "915206     MetaTrader4 Platform Training                                 False    Free   1819             45           15            Beginner Level  1.5 hours         2016-09-21T19:16:59Z  Business Finance    1\n",
       "911318     Master ECMAScript 2015 (ES6)                                  False    Free   7438             441          37            All Levels      2.5 hours         2016-11-28T22:10:27Z  Web Development     1\n",
       "                                                                                                                                                                                                                ..\n",
       "473160     Web Design for Web Developers: Build Beautiful Websites!      False    Free   98867            6512         20            All Levels      3 hours           2015-04-13T18:29:47Z  Web Development     1\n",
       "471428     Crash Course on Cost of Capital and Capital Structuring       False    Free   5007             41           19            All Levels      3 hours           2015-04-13T17:52:57Z  Business Finance    1\n",
       "470288     EMMET Faster HTML & CSS workflow - Best Tool For Developers   False    Free   26697            1097         20            All Levels      1 hour            2015-04-09T16:36:06Z  Web Development     1\n",
       "465870     Beginning Oracle WebLogic for Administrators                  False    Free   9786             989          7             Beginner Level  42 mins           2015-04-15T18:28:50Z  Web Development     1\n",
       "1268616    Condor Broken Wing Butterfly Options Trading Course System    False    Free   16               0            15            All Levels      1.5 hours         2017-07-06T19:47:16Z  Business Finance    1\n",
       "Length: 310, dtype: int64"
      ]
     },
     "execution_count": 5,
     "metadata": {},
     "output_type": "execute_result"
    }
   ],
   "source": [
    "df[df['price']=='Free'].value_counts()"
   ]
  },
  {
   "cell_type": "code",
   "execution_count": 6,
   "id": "cdbdc8c0",
   "metadata": {},
   "outputs": [
    {
     "data": {
      "text/plain": [
       "course_id  course_title                                                  is_paid  price  num_subscribers  num_reviews  num_lectures  level           content_duration  published_timestamp   subject         \n",
       "1035638    Understanding Financial Statements                            True     25     0                0            10            All Levels      1 hour            2016-12-15T14:56:17Z  Business Finance    2\n",
       "185526     MicroStation - Células                                        True     20     0                0            9             Beginner Level  37 mins           2014-04-15T21:48:55Z  Graphic Design      2\n",
       "837322     Essentials of money value: Get a financial Life !             True     20     0                0            20            All Levels      37 mins           2016-05-16T18:28:30Z  Business Finance    2\n",
       "1084454    CFA Level 2- Quantitative Methods                             True     40     0                0            35            All Levels      5.5 hours         2017-07-02T14:29:35Z  Business Finance    2\n",
       "1157298    Introduction to Forex Trading Business For Beginners          True     20     0                0            27            Beginner Level  1.5 hours         2017-04-23T16:19:01Z  Business Finance    2\n",
       "                                                                                                                                                                                                                ..\n",
       "517938     Algorithmic Trading in MATLAB: WFAToolbox App GUI (Finance)   True     20     1749             41           21            All Levels      1 hour            2015-06-23T22:37:31Z  Business Finance    1\n",
       "518188     An Easy Introduction to Adobe Photoshop                       True     20     1                0            6             Beginner Level  1 hour            2015-07-07T00:14:56Z  Graphic Design      1\n",
       "518870     How to create flat design icons in 15 minutes in Illustrator  True     195    2228             96           51            All Levels      4.5 hours         2015-06-22T23:52:21Z  Graphic Design      1\n",
       "518886     MQL4 Tutorial Golden Goose                                    True     20     135              5            12            Beginner Level  1.5 hours         2015-06-07T19:32:46Z  Business Finance    1\n",
       "1282064    Cryptocurrency (BTC & ETH) Investment & Trading Course 2017   True     20     0                0            7             Beginner Level  2.5 hours         2017-07-06T21:46:30Z  Business Finance    1\n",
       "Length: 3366, dtype: int64"
      ]
     },
     "execution_count": 6,
     "metadata": {},
     "output_type": "execute_result"
    }
   ],
   "source": [
    "df[df['price']!='Free'].value_counts()"
   ]
  },
  {
   "cell_type": "code",
   "execution_count": 7,
   "id": "6a1c1e10",
   "metadata": {},
   "outputs": [
    {
     "data": {
      "text/plain": [
       "course_title       #1 Piano Hand Coordination: Play 10th Ballad i...\n",
       "num_subscribers                                                    0\n",
       "dtype: object"
      ]
     },
     "execution_count": 7,
     "metadata": {},
     "output_type": "execute_result"
    }
   ],
   "source": [
    "df[['course_title','num_subscribers']].min()"
   ]
  },
  {
   "cell_type": "code",
   "execution_count": 8,
   "id": "21c501f0",
   "metadata": {},
   "outputs": [
    {
     "data": {
      "text/plain": [
       "course_title       ７日でマスター  ビギナー向け Adobe Illustrator　どきどきセミナー\n",
       "num_subscribers                                        268923\n",
       "dtype: object"
      ]
     },
     "execution_count": 8,
     "metadata": {},
     "output_type": "execute_result"
    }
   ],
   "source": [
    "df[['course_title','num_subscribers']].max()"
   ]
  },
  {
   "cell_type": "code",
   "execution_count": 9,
   "id": "93c10b61",
   "metadata": {},
   "outputs": [
    {
     "data": {
      "text/html": [
       "<div>\n",
       "<style scoped>\n",
       "    .dataframe tbody tr th:only-of-type {\n",
       "        vertical-align: middle;\n",
       "    }\n",
       "\n",
       "    .dataframe tbody tr th {\n",
       "        vertical-align: top;\n",
       "    }\n",
       "\n",
       "    .dataframe thead th {\n",
       "        text-align: right;\n",
       "    }\n",
       "</style>\n",
       "<table border=\"1\" class=\"dataframe\">\n",
       "  <thead>\n",
       "    <tr style=\"text-align: right;\">\n",
       "      <th></th>\n",
       "      <th>course_id</th>\n",
       "      <th>course_title</th>\n",
       "      <th>is_paid</th>\n",
       "      <th>price</th>\n",
       "      <th>num_subscribers</th>\n",
       "      <th>num_reviews</th>\n",
       "      <th>num_lectures</th>\n",
       "      <th>level</th>\n",
       "      <th>content_duration</th>\n",
       "      <th>published_timestamp</th>\n",
       "      <th>subject</th>\n",
       "    </tr>\n",
       "  </thead>\n",
       "  <tbody>\n",
       "    <tr>\n",
       "      <th>8</th>\n",
       "      <td>206592</td>\n",
       "      <td>:::Beginners Guide To Creating Amazing Images ...</td>\n",
       "      <td>True</td>\n",
       "      <td>25</td>\n",
       "      <td>72</td>\n",
       "      <td>5</td>\n",
       "      <td>17</td>\n",
       "      <td>Beginner Level</td>\n",
       "      <td>1 hour</td>\n",
       "      <td>2014-04-29T19:50:31Z</td>\n",
       "      <td>Graphic Design</td>\n",
       "    </tr>\n",
       "    <tr>\n",
       "      <th>20</th>\n",
       "      <td>1165268</td>\n",
       "      <td>15  Motion Graphic Elements in After Effect (S...</td>\n",
       "      <td>True</td>\n",
       "      <td>30</td>\n",
       "      <td>8</td>\n",
       "      <td>0</td>\n",
       "      <td>20</td>\n",
       "      <td>Intermediate Level</td>\n",
       "      <td>3 hours</td>\n",
       "      <td>2017-04-11T04:27:34Z</td>\n",
       "      <td>Graphic Design</td>\n",
       "    </tr>\n",
       "    <tr>\n",
       "      <th>35</th>\n",
       "      <td>1164876</td>\n",
       "      <td>3DS MAX - Learn 3Ds MAX tutorial for Beginners...</td>\n",
       "      <td>True</td>\n",
       "      <td>20</td>\n",
       "      <td>785</td>\n",
       "      <td>2</td>\n",
       "      <td>29</td>\n",
       "      <td>All Levels</td>\n",
       "      <td>4.5 hours</td>\n",
       "      <td>2017-04-18T16:45:59Z</td>\n",
       "      <td>Graphic Design</td>\n",
       "    </tr>\n",
       "    <tr>\n",
       "      <th>39</th>\n",
       "      <td>599652</td>\n",
       "      <td>48 Logo Designs and Techniques</td>\n",
       "      <td>True</td>\n",
       "      <td>20</td>\n",
       "      <td>113</td>\n",
       "      <td>9</td>\n",
       "      <td>48</td>\n",
       "      <td>All Levels</td>\n",
       "      <td>9 hours</td>\n",
       "      <td>2015-09-15T00:23:14Z</td>\n",
       "      <td>Graphic Design</td>\n",
       "    </tr>\n",
       "    <tr>\n",
       "      <th>52</th>\n",
       "      <td>794036</td>\n",
       "      <td>8 Stunden professionelles Cinema 4D Training</td>\n",
       "      <td>True</td>\n",
       "      <td>50</td>\n",
       "      <td>18</td>\n",
       "      <td>1</td>\n",
       "      <td>38</td>\n",
       "      <td>All Levels</td>\n",
       "      <td>8.5 hours</td>\n",
       "      <td>2016-03-22T20:51:28Z</td>\n",
       "      <td>Graphic Design</td>\n",
       "    </tr>\n",
       "    <tr>\n",
       "      <th>...</th>\n",
       "      <td>...</td>\n",
       "      <td>...</td>\n",
       "      <td>...</td>\n",
       "      <td>...</td>\n",
       "      <td>...</td>\n",
       "      <td>...</td>\n",
       "      <td>...</td>\n",
       "      <td>...</td>\n",
       "      <td>...</td>\n",
       "      <td>...</td>\n",
       "      <td>...</td>\n",
       "    </tr>\n",
       "    <tr>\n",
       "      <th>3568</th>\n",
       "      <td>133968</td>\n",
       "      <td>Web Elements Design With Photoshop</td>\n",
       "      <td>True</td>\n",
       "      <td>45</td>\n",
       "      <td>5072</td>\n",
       "      <td>38</td>\n",
       "      <td>44</td>\n",
       "      <td>All Levels</td>\n",
       "      <td>5 hours</td>\n",
       "      <td>2014-10-21T19:18:12Z</td>\n",
       "      <td>Graphic Design</td>\n",
       "    </tr>\n",
       "    <tr>\n",
       "      <th>3588</th>\n",
       "      <td>1131780</td>\n",
       "      <td>Whiteboard Animation, Beginner To Expert - In ...</td>\n",
       "      <td>True</td>\n",
       "      <td>20</td>\n",
       "      <td>1343</td>\n",
       "      <td>25</td>\n",
       "      <td>16</td>\n",
       "      <td>All Levels</td>\n",
       "      <td>1 hour</td>\n",
       "      <td>2017-03-14T20:52:30Z</td>\n",
       "      <td>Graphic Design</td>\n",
       "    </tr>\n",
       "    <tr>\n",
       "      <th>3639</th>\n",
       "      <td>1122306</td>\n",
       "      <td>Wordpress: Comment utiliser le thème FABLE</td>\n",
       "      <td>True</td>\n",
       "      <td>20</td>\n",
       "      <td>1</td>\n",
       "      <td>0</td>\n",
       "      <td>10</td>\n",
       "      <td>Beginner Level</td>\n",
       "      <td>39 mins</td>\n",
       "      <td>2017-03-07T16:53:27Z</td>\n",
       "      <td>Graphic Design</td>\n",
       "    </tr>\n",
       "    <tr>\n",
       "      <th>3671</th>\n",
       "      <td>144222</td>\n",
       "      <td>YOU can Draw, Shade and Paint a Mixed Media Gi...</td>\n",
       "      <td>True</td>\n",
       "      <td>30</td>\n",
       "      <td>1249</td>\n",
       "      <td>44</td>\n",
       "      <td>19</td>\n",
       "      <td>Beginner Level</td>\n",
       "      <td>3 hours</td>\n",
       "      <td>2014-01-28T02:30:26Z</td>\n",
       "      <td>Graphic Design</td>\n",
       "    </tr>\n",
       "    <tr>\n",
       "      <th>3681</th>\n",
       "      <td>964478</td>\n",
       "      <td>Zombie Apocalypse Photoshop Actions</td>\n",
       "      <td>True</td>\n",
       "      <td>50</td>\n",
       "      <td>12</td>\n",
       "      <td>1</td>\n",
       "      <td>15</td>\n",
       "      <td>All Levels</td>\n",
       "      <td>1.5 hours</td>\n",
       "      <td>2016-09-26T22:19:48Z</td>\n",
       "      <td>Graphic Design</td>\n",
       "    </tr>\n",
       "  </tbody>\n",
       "</table>\n",
       "<p>485 rows × 11 columns</p>\n",
       "</div>"
      ],
      "text/plain": [
       "      course_id                                       course_title  is_paid  \\\n",
       "8        206592  :::Beginners Guide To Creating Amazing Images ...     True   \n",
       "20      1165268  15  Motion Graphic Elements in After Effect (S...     True   \n",
       "35      1164876  3DS MAX - Learn 3Ds MAX tutorial for Beginners...     True   \n",
       "39       599652                     48 Logo Designs and Techniques     True   \n",
       "52       794036       8 Stunden professionelles Cinema 4D Training     True   \n",
       "...         ...                                                ...      ...   \n",
       "3568     133968                 Web Elements Design With Photoshop     True   \n",
       "3588    1131780  Whiteboard Animation, Beginner To Expert - In ...     True   \n",
       "3639    1122306         Wordpress: Comment utiliser le thème FABLE     True   \n",
       "3671     144222  YOU can Draw, Shade and Paint a Mixed Media Gi...     True   \n",
       "3681     964478                Zombie Apocalypse Photoshop Actions     True   \n",
       "\n",
       "      price  num_subscribers  num_reviews  num_lectures               level  \\\n",
       "8        25               72            5            17      Beginner Level   \n",
       "20       30                8            0            20  Intermediate Level   \n",
       "35       20              785            2            29          All Levels   \n",
       "39       20              113            9            48          All Levels   \n",
       "52       50               18            1            38          All Levels   \n",
       "...     ...              ...          ...           ...                 ...   \n",
       "3568     45             5072           38            44          All Levels   \n",
       "3588     20             1343           25            16          All Levels   \n",
       "3639     20                1            0            10      Beginner Level   \n",
       "3671     30             1249           44            19      Beginner Level   \n",
       "3681     50               12            1            15          All Levels   \n",
       "\n",
       "     content_duration   published_timestamp         subject  \n",
       "8              1 hour  2014-04-29T19:50:31Z  Graphic Design  \n",
       "20            3 hours  2017-04-11T04:27:34Z  Graphic Design  \n",
       "35          4.5 hours  2017-04-18T16:45:59Z  Graphic Design  \n",
       "39            9 hours  2015-09-15T00:23:14Z  Graphic Design  \n",
       "52          8.5 hours  2016-03-22T20:51:28Z  Graphic Design  \n",
       "...               ...                   ...             ...  \n",
       "3568          5 hours  2014-10-21T19:18:12Z  Graphic Design  \n",
       "3588           1 hour  2017-03-14T20:52:30Z  Graphic Design  \n",
       "3639          39 mins  2017-03-07T16:53:27Z  Graphic Design  \n",
       "3671          3 hours  2014-01-28T02:30:26Z  Graphic Design  \n",
       "3681        1.5 hours  2016-09-26T22:19:48Z  Graphic Design  \n",
       "\n",
       "[485 rows x 11 columns]"
      ]
     },
     "execution_count": 9,
     "metadata": {},
     "output_type": "execute_result"
    }
   ],
   "source": [
    "df[\"price\"].replace({\"Free\": 0}, inplace=True)\n",
    "df['price']=df['price'].astype(int)\n",
    "dt=df[df['subject']=='Graphic Design']\n",
    "dt[dt['price']<100]"
   ]
  },
  {
   "cell_type": "code",
   "execution_count": 10,
   "id": "957d6bf9",
   "metadata": {},
   "outputs": [
    {
     "data": {
      "text/plain": [
       "course_id  course_title                                                  is_paid  price  num_subscribers  num_reviews  num_lectures  level               content_duration  published_timestamp   subject         \n",
       "70640      Python Programming: Create an Digital Marketplace in Django   True     195    4198             145          161           All Levels          26 hours          2013-10-20T19:53:28Z  Web Development     1\n",
       "477702     Python for Beginners: Python Programming Language | Tutorial  True     150    6153             125          84            Beginner Level      5 hours           2015-06-14T18:18:57Z  Web Development     1\n",
       "523312     Python Web Programming                                        True     100    1020             46           60            Beginner Level      6 hours           2015-07-01T21:46:36Z  Web Development     1\n",
       "529828     Python for Trading & Investing                                True     95     638              25           36            All Levels          5 hours           2015-06-17T22:23:31Z  Business Finance    1\n",
       "822444     Python and Django Full Stack Web Developer Bootcamp           True     200    11832            1883         191           All Levels          31.5 hours        2017-02-24T18:40:55Z  Web Development     1\n",
       "1035472    Python for Finance: Investment Fundamentals & Data Analytics  True     195    3811             278          103           All Levels          6.5 hours         2017-03-30T22:17:09Z  Business Finance    1\n",
       "1070886    Python Algo Trading: FX Trading with Oanda                    True     200    453              42           33            Intermediate Level  3 hours           2017-03-14T00:39:45Z  Business Finance    1\n",
       "1170894    Python Algo Stock Trading: Automate Your Trading!             True     95     1165             21           41            Beginner Level      2.5 hours         2017-05-28T23:41:03Z  Business Finance    1\n",
       "1196544    Python Algo Trading: Sentiment Trading with News              True     200    294              19           42            All Levels          7 hours           2017-04-28T16:41:44Z  Business Finance    1\n",
       "dtype: int64"
      ]
     },
     "execution_count": 10,
     "metadata": {},
     "output_type": "execute_result"
    }
   ],
   "source": [
    "df[df[\"course_title\"].apply(lambda x:x[:6]=='Python')].value_counts()"
   ]
  },
  {
   "cell_type": "code",
   "execution_count": 11,
   "id": "b5dac53c",
   "metadata": {},
   "outputs": [
    {
     "data": {
      "text/plain": [
       "course_id  course_title                                                  is_paid  price  num_subscribers  num_reviews  num_lectures  level               content_duration  published_timestamp   subject            \n",
       "43291      La costruzione del budget di una proposta comunitaria         True     50     10               1            5             Intermediate Level  1 hour            2015-01-30T16:29:35Z  Business Finance       1\n",
       "584786     JavaScript HTML CSS Project make a Quiz Tutorial              True     95     7130             39           24            All Levels          2 hours           2015-08-18T18:37:17Z  Web Development        1\n",
       "581352     Creating Icons with Adobe Illustrator                         True     30     2266             26           10            All Levels          1 hour            2015-08-13T18:54:20Z  Graphic Design         1\n",
       "581498     Contabilidad Gubernamental en México                          True     30     270              22           24            All Levels          3.5 hours         2015-08-14T19:29:24Z  Business Finance       1\n",
       "581598     Commodity Futures Day Trading Strategies                      True     95     91               5            28            All Levels          5 hours           2015-08-28T23:47:29Z  Business Finance       1\n",
       "                                                                                                                                                                                                                       ..\n",
       "475914     Chugging - it don't mean a thing if it ain't got that swing!  True     200    382              21           25            All Levels          2.5 hours         2015-04-20T18:28:10Z  Musical Instruments    1\n",
       "476000     Easy Piano for Kids - Complete Beginner Piano Course          True     115    139              8            104           Beginner Level      5.5 hours         2015-06-26T22:34:55Z  Musical Instruments    1\n",
       "476256     Stock Options Trades Using Interactive Brokers                True     95     1580             26           14            Intermediate Level  1 hour            2015-09-07T20:21:39Z  Business Finance       1\n",
       "476268     Options Trading 3 : Advanced Stock Profit and Success Method  True     195    5172             34           38            Expert Level        2.5 hours         2015-05-28T00:14:03Z  Business Finance       1\n",
       "710486     jQuery for Absolute Beginners - Lite                          True     20     1769             49           7             All Levels          35 mins           2015-12-30T20:13:46Z  Web Development        1\n",
       "Length: 1014, dtype: int64"
      ]
     },
     "execution_count": 11,
     "metadata": {},
     "output_type": "execute_result"
    }
   ],
   "source": [
    "df[df[\"published_timestamp\"].apply(lambda x:x[:4]=='2015')].value_counts()"
   ]
  },
  {
   "cell_type": "code",
   "execution_count": 12,
   "id": "f6fda0c1",
   "metadata": {},
   "outputs": [
    {
     "data": {
      "text/plain": [
       "Intermediate Level    1\n",
       "268923                1\n",
       "dtype: int64"
      ]
     },
     "execution_count": 12,
     "metadata": {},
     "output_type": "execute_result"
    }
   ],
   "source": [
    "df[['num_subscribers','level']].max().value_counts()"
   ]
  }
 ],
 "metadata": {
  "kernelspec": {
   "display_name": "Python 3",
   "language": "python",
   "name": "python3"
  },
  "language_info": {
   "codemirror_mode": {
    "name": "ipython",
    "version": 3
   },
   "file_extension": ".py",
   "mimetype": "text/x-python",
   "name": "python",
   "nbconvert_exporter": "python",
   "pygments_lexer": "ipython3",
   "version": "3.8.8"
  }
 },
 "nbformat": 4,
 "nbformat_minor": 5
}
